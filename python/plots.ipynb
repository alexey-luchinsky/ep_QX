{
 "cells": [
  {
   "cell_type": "code",
   "execution_count": 1,
   "metadata": {
    "collapsed": false
   },
   "outputs": [],
   "source": [
    "%matplotlib inline\n",
    "from subs import *\n",
    "import matplotlib.pyplot as plt"
   ]
  },
  {
   "cell_type": "code",
   "execution_count": 22,
   "metadata": {
    "collapsed": false
   },
   "outputs": [
    {
     "data": {
      "image/png": "[encoded data removed]",
      "text/plain": [
       "<matplotlib.figure.Figure at 0x10cc266d8>"
      ]
     },
     "metadata": {},
     "output_type": "display_data"
    }
   ],
   "source": [
    "var='Q2'\n",
    "allMin=sum_th(var,r=rMin);\n",
    "allMax=sum_th(var,r=rMax);\n",
    "th_cs=data['3S1_cs']\n",
    "exp_data=load_exp(var);\n",
    "plt.fill_between(allMin[:,0],allMin[:,1],allMax[:,1],color='gray',label='total');\n",
    "plt.plot(th_cs[:,0],th_cs[:,1],label=r'${}^3S_1^{[1]}$')\n",
    "plt.errorbar(exp_data[:,0],exp_data[:,1],fmt='o',yerr=exp_data[:,2],label='exp')\n",
    "plt.legend(loc='best')\n",
    "plt.xlabel(get_xlabel(var))\n",
    "plt.ylabel(get_ylabel(var))\n",
    "plt.yscale('log')"
   ]
  },
  {
   "cell_type": "code",
   "execution_count": 17,
   "metadata": {
    "collapsed": false
   },
   "outputs": [
    {
     "name": "stdout",
     "output_type": "stream",
     "text": [
      "3S1_cs   9.9253998\n",
      "3S1_co   0.151638036\n",
      "1S0_co   16.1307828\n",
      "3P0_co   0.0\n",
      "_sum= 26.207820636  allMin= 26.207820636\n"
     ]
    }
   ],
   "source": [
    "allMin=sum_th(var,r=rMin)\n",
    "_sum=0\n",
    "for ch in colList:\n",
    "    print(ch,' ',data[ch][0,1])\n",
    "    _sum += data[ch][0,1]\n",
    "print('_sum=',_sum,' allMin=',allMin[0,1])"
   ]
  },
  {
   "cell_type": "code",
   "execution_count": 16,
   "metadata": {
    "collapsed": false
   },
   "outputs": [
    {
     "data": {
      "text/plain": [
       "array([  0.5       ,  26.20782064])"
      ]
     },
     "execution_count": 16,
     "metadata": {},
     "output_type": "execute_result"
    }
   ],
   "source": [
    "allMin[0]"
   ]
  },
  {
   "cell_type": "code",
   "execution_count": null,
   "metadata": {
    "collapsed": false
   },
   "outputs": [],
   "source": [
    "data={};\n",
    "var='PT2';\n",
    "all=multC(0,load_data(var,'3S1_cs'))\n",
    "for ch in colList:\n",
    "    data[ch]=multC(LDME[ch],load_data(var,ch))\n",
    "    all = add(all,data[ch])\n",
    "exp_data=load_exp(var)\n",
    "\n",
    "plt.plot(all[:,0],all[:,1],'k',linewidth=3.0,label='total');\n",
    "for ch in colList:\n",
    "    plt.plot(data[ch][:,0],data[ch][:,1],label=ch)\n",
    "plt.errorbar(exp_data[:,0],exp_data[:,1],fmt='o',yerr=exp_data[:,2],label='exp')\n",
    "plt.legend(loc='best')\n",
    "plt.yscale('log')"
   ]
  },
  {
   "cell_type": "code",
   "execution_count": null,
   "metadata": {
    "collapsed": false
   },
   "outputs": [],
   "source": [
    "var='Q2'\n",
    "ratMin={};\n",
    "ratMax={};\n",
    "for ch in colList:\n",
    "    allMin=sum_th(var,r=rMin)\n",
    "    ratMin[ch]=div(data[ch],allMin)\n",
    "    allMax=sum_th(var,r=rMax)\n",
    "    ratMax[ch]=div(data[ch],allMax)\n",
    "    plt.fill_between(ratMin[ch][:,0],ratMin[ch][:,1],ratMax[ch][:,1],label=ch)\n",
    "plt.legend(loc='best')"
   ]
  },
  {
   "cell_type": "code",
   "execution_count": null,
   "metadata": {
    "collapsed": true
   },
   "outputs": [],
   "source": []
  }
 ],
 "metadata": {
  "kernelspec": {
   "display_name": "Python 3",
   "language": "python",
   "name": "python3"
  },
  "language_info": {
   "codemirror_mode": {
    "name": "ipython",
    "version": 3
   },
   "file_extension": ".py",
   "mimetype": "text/x-python",
   "name": "python",
   "nbconvert_exporter": "python",
   "pygments_lexer": "ipython3",
   "version": "3.5.1"
  }
 },
 "nbformat": 4,
 "nbformat_minor": 0
}
