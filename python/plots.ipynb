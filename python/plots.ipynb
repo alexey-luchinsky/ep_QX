{
 "cells": [
  {
   "cell_type": "code",
   "execution_count": 1,
   "metadata": {
    "collapsed": false
   },
   "outputs": [],
   "source": [
    "%matplotlib inline\n",
    "import matplotlib.pyplot as plt\n",
    "import numpy as np"
   ]
  },
  {
   "cell_type": "code",
   "execution_count": 2,
   "metadata": {
    "collapsed": true
   },
   "outputs": [],
   "source": [
    "def load_data(var,channel,dir='../build/'):\n",
    "    return np.loadtxt(dir+'h'+var+'_'+channel+'.hst')\n",
    "def load_exp(var,dir='../experiment/'):\n",
    "    return np.loadtxt(dir+var+'.txt')"
   ]
  },
  {
   "cell_type": "code",
   "execution_count": 3,
   "metadata": {
    "collapsed": true
   },
   "outputs": [],
   "source": [
    "colList=['3S1_cs','3S1_co','1S0_co','3P0_co'];"
   ]
  },
  {
   "cell_type": "code",
   "execution_count": 4,
   "metadata": {
    "collapsed": false
   },
   "outputs": [
    {
     "name": "stdout",
     "output_type": "stream",
     "text": [
      "{'1S0_co': 0.0021290322580645163, '3S1_co': 0.0066, '3P0_co': 0.04790322580645162, '3S1_cs': 0.27}\n"
     ]
    }
   ],
   "source": [
    "# LDME\n",
    "mc=1.5;\n",
    "LDME={};\n",
    "def set_LDME(r):\n",
    "    LDME['3S1_cs']=0.270;\n",
    "    LDME['3S1_co']=6.6e-3;\n",
    "    LDME['1S0_co']=2.2e-2*3/(3*r + 1);\n",
    "    LDME['3P0_co']=2.2e-2*3*mc**2*r/(3*r + 1);\n",
    "set_LDME(10);\n",
    "print(LDME)"
   ]
  },
  {
   "cell_type": "code",
   "execution_count": 5,
   "metadata": {
    "collapsed": true
   },
   "outputs": [],
   "source": [
    "def add(A,B):\n",
    "    return np.array([ [A[i,0],A[i,1]+B[i,1]] for i in range(len(A))])\n",
    "def mult(A,B):\n",
    "    return np.array([ [A[i,0],A[i,1]*B[i,1]] for i in range(len(A))])\n",
    "def div(A,B):\n",
    "    return np.array([ [A[i,0],A[i,1]/B[i,1]] for i in range(len(A))])\n",
    "def multC(c, A):\n",
    "    return np.array( [ [A[i,0],c*A[i,1]] for i in range(len(A))])"
   ]
  },
  {
   "cell_type": "code",
   "execution_count": 30,
   "metadata": {
    "collapsed": true
   },
   "outputs": [],
   "source": [
    "data={};\n",
    "def sum_th(var,r):\n",
    "    set_LDME(r);\n",
    "    all=multC(0,load_data(var,'3S1_cs'))\n",
    "    for ch in colList:\n",
    "        data[ch]=multC(LDME[ch],load_data(var,ch))\n",
    "        all = add(all,data[ch])\n",
    "    return all\n",
    "(rMin, rMax)=(0,1)"
   ]
  },
  {
   "cell_type": "code",
   "execution_count": 34,
   "metadata": {
    "collapsed": false
   },
   "outputs": [
    {
     "data": {
      "image/png": "[encoded data removed]",
      "text/plain": [
       "<matplotlib.figure.Figure at 0x10c5129b0>"
      ]
     },
     "metadata": {},
     "output_type": "display_data"
    }
   ],
   "source": [
    "var='Z'\n",
    "allMin=sum_th(var,r=rMin);\n",
    "allMax=sum_th(var,r=rMax);\n",
    "exp_data=load_exp(var);\n",
    "plt.fill_between(allMin[:,0],allMin[:,1],allMax[:,1],color='gray',label='total');\n",
    "#for ch in colList:\n",
    "#    plt.plot(data[ch][:,0],data[ch][:,1],label=ch)\n",
    "plt.errorbar(exp_data[:,0],exp_data[:,1],fmt='o',yerr=exp_data[:,2],label='exp')\n",
    "plt.legend(loc='best')\n",
    "plt.yscale('log')"
   ]
  },
  {
   "cell_type": "code",
   "execution_count": null,
   "metadata": {
    "collapsed": false
   },
   "outputs": [],
   "source": [
    "data={};\n",
    "var='PT2';\n",
    "all=multC(0,load_data(var,'3S1_cs'))\n",
    "for ch in colList:\n",
    "    data[ch]=multC(LDME[ch],load_data(var,ch))\n",
    "    all = add(all,data[ch])\n",
    "exp_data=load_exp(var)\n",
    "\n",
    "plt.plot(all[:,0],all[:,1],'k',linewidth=3.0,label='total');\n",
    "for ch in colList:\n",
    "    plt.plot(data[ch][:,0],data[ch][:,1],label=ch)\n",
    "plt.errorbar(exp_data[:,0],exp_data[:,1],fmt='o',yerr=exp_data[:,2],label='exp')\n",
    "plt.legend(loc='best')\n",
    "plt.yscale('log')"
   ]
  },
  {
   "cell_type": "code",
   "execution_count": 27,
   "metadata": {
    "collapsed": false
   },
   "outputs": [
    {
     "data": {
      "text/plain": [
       "<matplotlib.legend.Legend at 0x10c51bb00>"
      ]
     },
     "execution_count": 27,
     "metadata": {},
     "output_type": "execute_result"
    },
    {
     "data": {
      "image/png": "[encoded data removed]",
      "text/plain": [
       "<matplotlib.figure.Figure at 0x10c51bd30>"
      ]
     },
     "metadata": {},
     "output_type": "display_data"
    }
   ],
   "source": [
    "ratMin={};\n",
    "ratMax={};\n",
    "for ch in colList:\n",
    "    ratMin[ch]=div(data[ch],allMin)\n",
    "    ratMax[ch]=div(data[ch],allMin)\n",
    "    plt.fill_between(ratMin[ch][:,0],ratMin[ch][:,1],ratMax[ch][:,1],label=ch)\n",
    "plt.legend(loc='best')"
   ]
  },
  {
   "cell_type": "code",
   "execution_count": null,
   "metadata": {
    "collapsed": true
   },
   "outputs": [],
   "source": []
  }
 ],
 "metadata": {
  "kernelspec": {
   "display_name": "Python 3",
   "language": "python",
   "name": "python3"
  },
  "language_info": {
   "codemirror_mode": {
    "name": "ipython",
    "version": 3
   },
   "file_extension": ".py",
   "mimetype": "text/x-python",
   "name": "python",
   "nbconvert_exporter": "python",
   "pygments_lexer": "ipython3",
   "version": "3.5.1"
  }
 },
 "nbformat": 4,
 "nbformat_minor": 0
}
